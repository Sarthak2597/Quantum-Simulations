{
  "nbformat": 4,
  "nbformat_minor": 0,
  "metadata": {
    "colab": {
      "name": "VQE_HLi",
      "provenance": [],
      "collapsed_sections": [],
      "authorship_tag": "ABX9TyP3Yzg2OUF/y0S10fikKD+Z",
      "include_colab_link": true
    },
    "kernelspec": {
      "name": "python3",
      "display_name": "Python 3"
    }
  },
  "cells": [
    {
      "cell_type": "markdown",
      "metadata": {
        "id": "view-in-github",
        "colab_type": "text"
      },
      "source": [
        "<a href=\"https://colab.research.google.com/github/Sarthak2597/Quantum-Simulations/blob/main/VQE_HLi.ipynb\" target=\"_parent\"><img src=\"https://colab.research.google.com/assets/colab-badge.svg\" alt=\"Open In Colab\"/></a>"
      ]
    },
    {
      "cell_type": "code",
      "metadata": {
        "id": "cvtZAeVaZCU1"
      },
      "source": [
        "# installing a few dependencies\r\n",
        "!pip install --upgrade seaborn==0.10.1\r\n",
        "!pip install --upgrade scikit-learn==0.23.1\r\n",
        "!pip install --upgrade matplotlib==3.2.0\r\n",
        "!pip install --upgrade pandas==1.0.4\r\n",
        "!pip install --upgrade qiskit==0.19.6 \r\n",
        "!pip install --upgrade plotly==4.9.0\r\n",
        "\r\n",
        "# the output will be cleared after installation\r\n",
        "from IPython.display import clear_output\r\n",
        "clear_output()"
      ],
      "execution_count": 1,
      "outputs": []
    },
    {
      "cell_type": "code",
      "metadata": {
        "id": "7wBWr95jQwdh"
      },
      "source": [
        "import numpy as np\r\n",
        "import pylab\r\n",
        "import copy\r\n",
        "from qiskit import BasicAer\r\n",
        "from qiskit.aqua import aqua_globals, QuantumInstance\r\n",
        "from qiskit.aqua.algorithms import NumPyMinimumEigensolver, VQE\r\n",
        "from qiskit.aqua.components.optimizers import SLSQP\r\n",
        "from qiskit.chemistry.components.initial_states import HartreeFock\r\n",
        "from qiskit.chemistry.components.variational_forms import UCCSD\r\n",
        "from qiskit.chemistry.drivers import PySCFDriver\r\n",
        "from qiskit.chemistry.core import Hamiltonian, QubitMappingType"
      ],
      "execution_count": 4,
      "outputs": []
    },
    {
      "cell_type": "code",
      "metadata": {
        "id": "EAF6HCk87xaT"
      },
      "source": [
        "molecule = 'H .0 .0 -{0}; Li .0 .0 {0}'\r\n",
        "distances = np.arange(0.5,4.25,0.25)\r\n",
        "vqe_energies= []\r\n",
        "hf_energies = []\r\n",
        "exact_energies = []"
      ],
      "execution_count": 16,
      "outputs": []
    },
    {
      "cell_type": "code",
      "metadata": {
        "colab": {
          "base_uri": "https://localhost:8080/"
        },
        "id": "3mQ3kOUM-Rgt",
        "outputId": "247f391d-902a-43bb-c33f-508379a4acbd"
      },
      "source": [
        "for i,d in enumerate(distances):\r\n",
        "  print('step',i)\r\n",
        "\r\n",
        "  #setup exp\r\n",
        "  driver = PySCFDriver(molecule.format(d/2),basis='sto3g')\r\n",
        "  qmolecule = driver.run()\r\n",
        "  operator = Hamiltonian(qubit_mapping = QubitMappingType.PARITY,\r\n",
        "                         two_qubit_reduction = True, freeze_core = True,\r\n",
        "                         orbital_reduction = [-3,-2])\r\n",
        "  qubit_op,aux_ops = operator.run(qmolecule)\r\n",
        "\r\n",
        "  #exact result\r\n",
        "  exact_result = NumPyMinimumEigensolver(qubit_op,aux_operators = aux_ops).compute_minimum_eigenvalue() \r\n",
        "  exact_result = operator.process_algorithm_result(exact_result)\r\n",
        "\r\n",
        "  #VQE\r\n",
        "  optimizer = SLSQP(maxiter = 1000)\r\n",
        "  initial_state = HartreeFock(operator.molecule_info['num_orbitals'],\r\n",
        "                              operator.molecule_info['num_particles'],\r\n",
        "                              qubit_mapping=operator._qubit_mapping,\r\n",
        "                              two_qubit_reduction=operator._two_qubit_reduction)\r\n",
        "  \r\n",
        "  var_form = UCCSD(num_orbitals = operator.molecule_info['num_orbitals'],\r\n",
        "                   num_particles=operator.molecule_info['num_particles'],\r\n",
        "                   initial_state=initial_state,\r\n",
        "                   qubit_mapping=operator._qubit_mapping,\r\n",
        "                   two_qubit_reduction = operator._two_qubit_reduction)\r\n",
        "  \r\n",
        "  algo=VQE(qubit_op, var_form, optimizer, aux_operators=aux_ops)\r\n",
        "\r\n",
        "  vqe_result = algo.run(QuantumInstance(BasicAer.get_backend('statevector_simulator')))\r\n",
        "\r\n",
        "  vqe_result=operator.process_algorithm_result(vqe_result)\r\n",
        "\r\n",
        "  exact_energies.append(exact_result.energy)\r\n",
        "  vqe_energies.append(vqe_result.energy)\r\n",
        "  hf_energies.append(vqe_result.hartree_fock_energy)"
      ],
      "execution_count": 17,
      "outputs": [
        {
          "output_type": "stream",
          "text": [
            "step 0\n",
            "step 1\n",
            "step 2\n",
            "step 3\n",
            "step 4\n",
            "step 5\n",
            "step 6\n",
            "step 7\n",
            "step 8\n",
            "step 9\n",
            "step 10\n",
            "step 11\n",
            "step 12\n",
            "step 13\n",
            "step 14\n"
          ],
          "name": "stdout"
        }
      ]
    },
    {
      "cell_type": "code",
      "metadata": {
        "colab": {
          "base_uri": "https://localhost:8080/",
          "height": 312
        },
        "id": "f7XwrAuw-TbH",
        "outputId": "c944f19b-f502-4e80-d9c6-394a8fa859dc"
      },
      "source": [
        "pylab.plot(distances,hf_energies,label = 'Hartree-Fock')\r\n",
        "pylab.plot(distances,vqe_energies,'-', label='VQE')\r\n",
        "pylab.plot(distances,exact_energies,'x', label='Exact')\r\n",
        "\r\n",
        "pylab.grid(True)\r\n",
        "\r\n",
        "pylab.xlabel('Interatomic distance')\r\n",
        "pylab.ylabel('Energy')\r\n",
        "pylab.title('LiH Ground State Energy')\r\n",
        "pylab.legend(loc = 'upper right')"
      ],
      "execution_count": 21,
      "outputs": [
        {
          "output_type": "execute_result",
          "data": {
            "text/plain": [
              "<matplotlib.legend.Legend at 0x7fa38b32ce10>"
            ]
          },
          "metadata": {
            "tags": []
          },
          "execution_count": 21
        },
        {
          "output_type": "display_data",
          "data": {
            "image/png": "[encoded data removed]",
            "text/plain": [
              "<Figure size 432x288 with 1 Axes>"
            ]
          },
          "metadata": {
            "tags": [],
            "needs_background": "light"
          }
        }
      ]
    },
    {
      "cell_type": "code",
      "metadata": {
        "id": "IKSYop2s-TG2"
      },
      "source": [
        ""
      ],
      "execution_count": null,
      "outputs": []
    }
  ]
}